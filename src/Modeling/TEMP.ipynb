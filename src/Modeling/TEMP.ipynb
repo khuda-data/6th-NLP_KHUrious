{
 "cells": [
  {
   "cell_type": "code",
   "id": "initial_id",
   "metadata": {
    "collapsed": true,
    "ExecuteTime": {
     "end_time": "2024-11-24T13:57:58.106366Z",
     "start_time": "2024-11-24T13:57:57.758083Z"
    }
   },
   "source": [
    "import json\n",
    "\n",
    "# Define the paths for the original and transformed files\n",
    "input_file_path = 'KUHrious_SFT_Dataset.jsonl'\n",
    "output_file_path = 'KUHrious_SFT_Dataset_transformed.jsonl'\n",
    "\n",
    "# Initialize a list to store the transformed lines\n",
    "transformed_lines = []\n",
    "\n",
    "# Read the original file and transform the content\n",
    "with open(input_file_path, 'r') as infile:\n",
    "    for line in infile:\n",
    "        if line.strip():  # Skip empty lines\n",
    "            # Load the line as JSON, extract the elements of the list, and append each one\n",
    "            try:\n",
    "                data = json.loads(line.strip())\n",
    "                if isinstance(data, list):\n",
    "                    for item in data:\n",
    "                        transformed_lines.append(json.dumps(item))\n",
    "            except json.JSONDecodeError as e:\n",
    "                print(f\"Error decoding JSON: {e}\")\n",
    "\n",
    "# Write the transformed lines to the new file\n",
    "with open(output_file_path, 'w') as outfile:\n",
    "    for transformed_line in transformed_lines:\n",
    "        outfile.write(transformed_line + '\\n')\n",
    "\n",
    "# Return the path of the transformed file\n",
    "output_file_path\n"
   ],
   "outputs": [
    {
     "data": {
      "text/plain": [
       "'KUHrious_SFT_Dataset_transformed.jsonl'"
      ]
     },
     "execution_count": 2,
     "metadata": {},
     "output_type": "execute_result"
    }
   ],
   "execution_count": 2
  }
 ],
 "metadata": {
  "kernelspec": {
   "display_name": "Python 3",
   "language": "python",
   "name": "python3"
  },
  "language_info": {
   "codemirror_mode": {
    "name": "ipython",
    "version": 2
   },
   "file_extension": ".py",
   "mimetype": "text/x-python",
   "name": "python",
   "nbconvert_exporter": "python",
   "pygments_lexer": "ipython2",
   "version": "2.7.6"
  }
 },
 "nbformat": 4,
 "nbformat_minor": 5
}
